{
  "nbformat": 4,
  "nbformat_minor": 0,
  "metadata": {
    "colab": {
      "name": "Preprocessing.ipynb",
      "provenance": [],
      "collapsed_sections": [],
      "include_colab_link": true
    },
    "kernelspec": {
      "display_name": "Python 3",
      "name": "python3"
    }
  },
  "cells": [
    {
      "cell_type": "markdown",
      "metadata": {
        "id": "view-in-github",
        "colab_type": "text"
      },
      "source": [
        "<a href=\"https://colab.research.google.com/github/KevalPadsumbiya/Crowd-Computing/blob/main/Preprocessing.ipynb\" target=\"_parent\"><img src=\"https://colab.research.google.com/assets/colab-badge.svg\" alt=\"Open In Colab\"/></a>"
      ]
    },
    {
      "cell_type": "code",
      "metadata": {
        "colab": {
          "base_uri": "https://localhost:8080/"
        },
        "id": "AHOCyw42-Krj",
        "outputId": "a7d96605-8906-4895-c553-f524398ba3c0"
      },
      "source": [
        "# mount google drive to colab notebook\n",
        " \n",
        "from google.colab import drive\n",
        "drive.mount('/content/gdrive')"
      ],
      "execution_count": null,
      "outputs": [
        {
          "output_type": "stream",
          "text": [
            "Mounted at /content/gdrive\n"
          ],
          "name": "stdout"
        }
      ]
    },
    {
      "cell_type": "code",
      "metadata": {
        "id": "XJd3Ru2R9-NY"
      },
      "source": [
        "import numpy as np\r\n",
        "import json\r\n",
        "import h5py             # https://pypi.org/project/h5py/\r\n",
        "import PIL as image     # https://en.wikipedia.org/wiki/Python_Imaging_Library\r\n",
        "import glob\r\n",
        "import os\r\n",
        "import scipy\r\n",
        "from scipy import spatial\r\n",
        "from tqdm import tqdm\r\n",
        "from scipy.ndimage.filters import gaussian_filter\r\n",
        "import scipy.io as io \r\n",
        "from matplotlib import pyplot as plt\r\n",
        "from matplotlib import cm as CM\r\n",
        "from PIL import Image\r\n",
        "import matplotlib.image as img "
      ],
      "execution_count": null,
      "outputs": []
    },
    {
      "cell_type": "code",
      "metadata": {
        "id": "YO4RGPXe-HCV"
      },
      "source": [
        "# List of all image paths\r\n",
        "image_paths = []\r\n",
        "prefix = '/content/gdrive/MyDrive/Crowd Computing/ShanghaiTech'\r\n",
        "def create_image_paths():\r\n",
        "  part_A_train = os.path.join(prefix,'part_A/train_data','images')\r\n",
        "  # part_A_test = os.path.join(prefix,'part_A/test_data','images')\r\n",
        "  # part_B_train = os.path.join(prefix,'part_B/train_data','images')\r\n",
        "  # part_B_test = os.path.join(prefix,'part_B/test_data','images')\r\n",
        "  main_paths = [part_A_train]\r\n",
        "\r\n",
        "  for path in main_paths:\r\n",
        "      for image_path in glob.glob(os.path.join(path, '*.jpg')):\r\n",
        "          image_paths.append(image_path)\r\n",
        "  print(\"part_A train_data ==>Total images : {}\".format(len(image_paths)))\r\n"
      ],
      "execution_count": null,
      "outputs": []
    },
    {
      "cell_type": "code",
      "metadata": {
        "id": "xyDli_3f_saH"
      },
      "source": [
        "def display_image(no):\r\n",
        "    # image = Image.open(path)\r\n",
        "    image = img.imread(image_paths[no-1]) \r\n",
        "    plt.imshow(image)\r\n",
        "    plt.show()"
      ],
      "execution_count": null,
      "outputs": []
    },
    {
      "cell_type": "code",
      "metadata": {
        "colab": {
          "base_uri": "https://localhost:8080/",
          "height": 282
        },
        "id": "WiCmJFdG_y5t",
        "outputId": "f4ab0b69-3573-4348-d855-bef03d04c477"
      },
      "source": [
        "display_image(125)"
      ],
      "execution_count": null,
      "outputs": [
        {
          "output_type": "error",
          "ename": "IndexError",
          "evalue": "ignored",
          "traceback": [
            "\u001b[0;31m---------------------------------------------------------------------------\u001b[0m",
            "\u001b[0;31mIndexError\u001b[0m                                Traceback (most recent call last)",
            "\u001b[0;32m<ipython-input-6-7ab02e10df07>\u001b[0m in \u001b[0;36m<module>\u001b[0;34m()\u001b[0m\n\u001b[0;32m----> 1\u001b[0;31m \u001b[0mdisplay_image\u001b[0m\u001b[0;34m(\u001b[0m\u001b[0;36m125\u001b[0m\u001b[0;34m)\u001b[0m\u001b[0;34m\u001b[0m\u001b[0;34m\u001b[0m\u001b[0m\n\u001b[0m",
            "\u001b[0;32m<ipython-input-5-0ef51a29f3af>\u001b[0m in \u001b[0;36mdisplay_image\u001b[0;34m(no)\u001b[0m\n\u001b[1;32m      1\u001b[0m \u001b[0;32mdef\u001b[0m \u001b[0mdisplay_image\u001b[0m\u001b[0;34m(\u001b[0m\u001b[0mno\u001b[0m\u001b[0;34m)\u001b[0m\u001b[0;34m:\u001b[0m\u001b[0;34m\u001b[0m\u001b[0;34m\u001b[0m\u001b[0m\n\u001b[1;32m      2\u001b[0m     \u001b[0;31m# image = Image.open(path)\u001b[0m\u001b[0;34m\u001b[0m\u001b[0;34m\u001b[0m\u001b[0;34m\u001b[0m\u001b[0m\n\u001b[0;32m----> 3\u001b[0;31m     \u001b[0mimage\u001b[0m \u001b[0;34m=\u001b[0m \u001b[0mimg\u001b[0m\u001b[0;34m.\u001b[0m\u001b[0mimread\u001b[0m\u001b[0;34m(\u001b[0m\u001b[0mimage_paths\u001b[0m\u001b[0;34m[\u001b[0m\u001b[0mno\u001b[0m\u001b[0;34m-\u001b[0m\u001b[0;36m1\u001b[0m\u001b[0;34m]\u001b[0m\u001b[0;34m)\u001b[0m\u001b[0;34m\u001b[0m\u001b[0;34m\u001b[0m\u001b[0m\n\u001b[0m\u001b[1;32m      4\u001b[0m     \u001b[0mplt\u001b[0m\u001b[0;34m.\u001b[0m\u001b[0mimshow\u001b[0m\u001b[0;34m(\u001b[0m\u001b[0mimage\u001b[0m\u001b[0;34m)\u001b[0m\u001b[0;34m\u001b[0m\u001b[0;34m\u001b[0m\u001b[0m\n\u001b[1;32m      5\u001b[0m     \u001b[0mplt\u001b[0m\u001b[0;34m.\u001b[0m\u001b[0mshow\u001b[0m\u001b[0;34m(\u001b[0m\u001b[0;34m)\u001b[0m\u001b[0;34m\u001b[0m\u001b[0;34m\u001b[0m\u001b[0m\n",
            "\u001b[0;31mIndexError\u001b[0m: list index out of range"
          ]
        }
      ]
    },
    {
      "cell_type": "code",
      "metadata": {
        "id": "PeYZBLzGAjJa"
      },
      "source": [
        "# def Gaussian_filter(ground_truth,img):\r\n",
        "    \r\n",
        "    # Generates a density map using Gaussian filter transformation   \r\n",
        "    # density = np.zeros((img.shape[0],img.shape[1]), dtype=np.float32)\r\n",
        "    \r\n",
        "    # # gt_count = np.count_nonzero(ground_truth)\r\n",
        "    \r\n",
        "    # # if gt_count == 0:\r\n",
        "    # #     return density\r\n",
        "       \r\n",
        "    # for i, p in enumerate(ground_truth):\r\n",
        "    #     temp = np.zeros((img.shape[0],img.shape[1]), dtype=np.float32)\r\n",
        "    #     temp[int(p[1]),int(p[0])] = 1.\r\n",
        "        \r\n",
        "    #     # pass through gaussian filter\r\n",
        "    #     density += scipy.ndimage.filters.gaussian_filter(temp, sigma=2.5,mode='constant')    \r\n",
        "    \r\n",
        "    # return density\r\n",
        "    \r\n",
        "def Gaussian_filter(gt):\r\n",
        "    density = np.zeros(gt.shape, dtype=np.float32)\r\n",
        "    \r\n",
        "    gt_count = np.count_nonzero(gt)\r\n",
        "    \r\n",
        "    if gt_count == 0:\r\n",
        "        return density\r\n",
        "\r\n",
        "    # FInd out the K nearest neighbours using a KDTree\r\n",
        "    \r\n",
        "    pts = np.array(list(zip(np.nonzero(gt)[1].ravel(), np.nonzero(gt)[0].ravel())))\r\n",
        "    leafsize = 2048\r\n",
        "    \r\n",
        "    # build kdtree\r\n",
        "    tree = scipy.spatial.KDTree(pts.copy(), leafsize=leafsize)\r\n",
        "    \r\n",
        "    # query kdtree\r\n",
        "    distances, locations = tree.query(pts, k=4)\r\n",
        "\r\n",
        "        \r\n",
        "    for i, pt in enumerate(pts):\r\n",
        "        pt2d = np.zeros(gt.shape, dtype=np.float32)\r\n",
        "        pt2d[pt[1],pt[0]] = 1.\r\n",
        "        if gt_count > 1:\r\n",
        "            sigma = (distances[i][1]+distances[i][2]+distances[i][3])*0.1\r\n",
        "        else:\r\n",
        "            sigma = np.average(np.array(gt.shape))/2./2. #case: 1 point\r\n",
        "        \r\n",
        "        #Convolve with the gaussian filter\r\n",
        "        \r\n",
        "        density += scipy.ndimage.filters.gaussian_filter(pt2d, sigma, mode='constant')\r\n",
        "    \r\n",
        "    return density"
      ],
      "execution_count": null,
      "outputs": []
    },
    {
      "cell_type": "code",
      "metadata": {
        "id": "5LsLgtOrJcqt"
      },
      "source": [
        "\r\n",
        "with open(prefix+'/part_B/train_data/data.csv', 'w', encoding = 'utf-8') as f:\r\n",
        "  f.write(\"Image_path,Y_pred,Y_truth\\n\")"
      ],
      "execution_count": null,
      "outputs": []
    },
    {
      "cell_type": "code",
      "metadata": {
        "colab": {
          "base_uri": "https://localhost:8080/"
        },
        "id": "GiqTBZQgCnQv",
        "outputId": "acebb8b6-1bcf-470d-e0c3-a148ddb5e05b"
      },
      "source": [
        "image_paths.clear()   # otherwise new paths will get appended\r\n",
        "create_image_paths()"
      ],
      "execution_count": null,
      "outputs": [
        {
          "output_type": "stream",
          "text": [
            "part_A train_data ==>Total images : 300\n"
          ],
          "name": "stdout"
        }
      ]
    },
    {
      "cell_type": "code",
      "metadata": {
        "colab": {
          "base_uri": "https://localhost:8080/"
        },
        "id": "HjuU2Pz1DK-R",
        "outputId": "5ee7080d-5566-4cb5-85ee-fd5c06c97cb5"
      },
      "source": [
        "cnt = 1\r\n",
        "for img_path in image_paths[150:]:\r\n",
        "    # print(image_path)\r\n",
        "    # Load given sparse matrix\r\n",
        "    # mat = io.loadmat(image_path.replace('.jpg','.mat').replace('images','ground-truth').replace('IMG','GT_IMG'))\r\n",
        "    # ground_truth = mat[\"image_info\"][0,0][0,0][0]     # to understand this line go to below block\r\n",
        "\r\n",
        "    # img= plt.imread(image_path)\r\n",
        "\r\n",
        "    # # generate density map\r\n",
        "    # g_filter= Gaussian_filter(ground_truth,img)\r\n",
        "\r\n",
        "    mat = io.loadmat(img_path.replace('.jpg','.mat').replace('images','ground-truth').replace('IMG_','GT_IMG_'))\r\n",
        "    \r\n",
        "    #Read image\r\n",
        "    img= plt.imread(img_path)\r\n",
        "    \r\n",
        "    # Create a zero matrix of image size\r\n",
        "    k = np.zeros((img.shape[0],img.shape[1]))\r\n",
        "    \r\n",
        "    gt = mat[\"image_info\"][0,0][0,0][0]\r\n",
        "    \r\n",
        "    #Generate hot encoded matrix of sparse matrix\r\n",
        "    for i in range(0,len(gt)):\r\n",
        "        if int(gt[i][1])<img.shape[0] and int(gt[i][0])<img.shape[1]:\r\n",
        "            k[int(gt[i][1]),int(gt[i][0])]=1\r\n",
        "    \r\n",
        "    # generate density map\r\n",
        "    k = Gaussian_filter(k)\r\n",
        "\r\n",
        "    # Save density map\r\n",
        "    path = img_path.replace('.jpg','.h5').replace('images','new_density_maps')\r\n",
        "    \r\n",
        "    with h5py.File(path, 'w') as f:\r\n",
        "            f['density'] = k\r\n",
        "\r\n",
        "    # save data into data.csv\r\n",
        "    # path = image_path.replace('.jpg','.h5').replace('images','data.csv')\r\n",
        "    # path = path[ : path.index(\".csv\") + 4]\r\n",
        "    # with open(path, 'a', encoding = 'utf-8') as f:\r\n",
        "    #     f.write(\"{},{},\\n\".format(image_path.replace('\\\\','/'),np.sum(g_filter)))\r\n",
        "\r\n",
        "    print(\"{} - {} , {}\".format(cnt,img_path,np.sum(k)))\r\n",
        "    cnt += 1"
      ],
      "execution_count": null,
      "outputs": [
        {
          "output_type": "stream",
          "text": [
            "1 - /content/gdrive/MyDrive/Crowd Computing/ShanghaiTech/part_A/train_data/images/IMG_31.jpg , 971.6267700195312\n",
            "2 - /content/gdrive/MyDrive/Crowd Computing/ShanghaiTech/part_A/train_data/images/IMG_285.jpg , 211.342529296875\n",
            "3 - /content/gdrive/MyDrive/Crowd Computing/ShanghaiTech/part_A/train_data/images/IMG_233.jpg , 310.4331359863281\n",
            "4 - /content/gdrive/MyDrive/Crowd Computing/ShanghaiTech/part_A/train_data/images/IMG_245.jpg , 479.2164611816406\n",
            "5 - /content/gdrive/MyDrive/Crowd Computing/ShanghaiTech/part_A/train_data/images/IMG_5.jpg , 581.895751953125\n",
            "6 - /content/gdrive/MyDrive/Crowd Computing/ShanghaiTech/part_A/train_data/images/IMG_234.jpg , 459.97821044921875\n",
            "7 - /content/gdrive/MyDrive/Crowd Computing/ShanghaiTech/part_A/train_data/images/IMG_269.jpg , 188.7459259033203\n",
            "8 - /content/gdrive/MyDrive/Crowd Computing/ShanghaiTech/part_A/train_data/images/IMG_53.jpg , 256.9110412597656\n",
            "9 - /content/gdrive/MyDrive/Crowd Computing/ShanghaiTech/part_A/train_data/images/IMG_248.jpg , 396.93017578125\n",
            "10 - /content/gdrive/MyDrive/Crowd Computing/ShanghaiTech/part_A/train_data/images/IMG_261.jpg , 126.89913940429688\n",
            "11 - /content/gdrive/MyDrive/Crowd Computing/ShanghaiTech/part_A/train_data/images/IMG_257.jpg , 272.6471252441406\n",
            "12 - /content/gdrive/MyDrive/Crowd Computing/ShanghaiTech/part_A/train_data/images/IMG_51.jpg , 568.0784301757812\n",
            "13 - /content/gdrive/MyDrive/Crowd Computing/ShanghaiTech/part_A/train_data/images/IMG_4.jpg , 412.1922912597656\n",
            "14 - /content/gdrive/MyDrive/Crowd Computing/ShanghaiTech/part_A/train_data/images/IMG_238.jpg , 292.9295349121094\n",
            "15 - /content/gdrive/MyDrive/Crowd Computing/ShanghaiTech/part_A/train_data/images/IMG_252.jpg , 252.4586181640625\n",
            "16 - /content/gdrive/MyDrive/Crowd Computing/ShanghaiTech/part_A/train_data/images/IMG_52.jpg , 1136.41748046875\n",
            "17 - /content/gdrive/MyDrive/Crowd Computing/ShanghaiTech/part_A/train_data/images/IMG_247.jpg , 582.3206787109375\n",
            "18 - /content/gdrive/MyDrive/Crowd Computing/ShanghaiTech/part_A/train_data/images/IMG_271.jpg , 267.77618408203125\n",
            "19 - /content/gdrive/MyDrive/Crowd Computing/ShanghaiTech/part_A/train_data/images/IMG_259.jpg , 153.9043426513672\n",
            "20 - /content/gdrive/MyDrive/Crowd Computing/ShanghaiTech/part_A/train_data/images/IMG_30.jpg , 617.207275390625\n",
            "21 - /content/gdrive/MyDrive/Crowd Computing/ShanghaiTech/part_A/train_data/images/IMG_24.jpg , 158.1497039794922\n",
            "22 - /content/gdrive/MyDrive/Crowd Computing/ShanghaiTech/part_A/train_data/images/IMG_256.jpg , 38.969444274902344\n",
            "23 - /content/gdrive/MyDrive/Crowd Computing/ShanghaiTech/part_A/train_data/images/IMG_300.jpg , 385.2113037109375\n",
            "24 - /content/gdrive/MyDrive/Crowd Computing/ShanghaiTech/part_A/train_data/images/IMG_42.jpg , 133.2080841064453\n",
            "25 - /content/gdrive/MyDrive/Crowd Computing/ShanghaiTech/part_A/train_data/images/IMG_34.jpg , 958.2593994140625\n",
            "26 - /content/gdrive/MyDrive/Crowd Computing/ShanghaiTech/part_A/train_data/images/IMG_264.jpg , 107.33088684082031\n",
            "27 - /content/gdrive/MyDrive/Crowd Computing/ShanghaiTech/part_A/train_data/images/IMG_299.jpg , 2160.392822265625\n",
            "28 - /content/gdrive/MyDrive/Crowd Computing/ShanghaiTech/part_A/train_data/images/IMG_268.jpg , 3129.077392578125\n",
            "29 - /content/gdrive/MyDrive/Crowd Computing/ShanghaiTech/part_A/train_data/images/IMG_60.jpg , 277.9051818847656\n",
            "30 - /content/gdrive/MyDrive/Crowd Computing/ShanghaiTech/part_A/train_data/images/IMG_29.jpg , 616.1082763671875\n",
            "31 - /content/gdrive/MyDrive/Crowd Computing/ShanghaiTech/part_A/train_data/images/IMG_46.jpg , 798.8500366210938\n",
            "32 - /content/gdrive/MyDrive/Crowd Computing/ShanghaiTech/part_A/train_data/images/IMG_27.jpg , 766.245849609375\n",
            "33 - /content/gdrive/MyDrive/Crowd Computing/ShanghaiTech/part_A/train_data/images/IMG_45.jpg , 755.1127319335938\n",
            "34 - /content/gdrive/MyDrive/Crowd Computing/ShanghaiTech/part_A/train_data/images/IMG_283.jpg , 1414.02783203125\n",
            "35 - /content/gdrive/MyDrive/Crowd Computing/ShanghaiTech/part_A/train_data/images/IMG_287.jpg , 875.4625854492188\n",
            "36 - /content/gdrive/MyDrive/Crowd Computing/ShanghaiTech/part_A/train_data/images/IMG_293.jpg , 378.0642395019531\n",
            "37 - /content/gdrive/MyDrive/Crowd Computing/ShanghaiTech/part_A/train_data/images/IMG_62.jpg , 637.5802612304688\n",
            "38 - /content/gdrive/MyDrive/Crowd Computing/ShanghaiTech/part_A/train_data/images/IMG_35.jpg , 646.109619140625\n",
            "39 - /content/gdrive/MyDrive/Crowd Computing/ShanghaiTech/part_A/train_data/images/IMG_284.jpg , 725.7581787109375\n",
            "40 - /content/gdrive/MyDrive/Crowd Computing/ShanghaiTech/part_A/train_data/images/IMG_253.jpg , 970.9526977539062\n",
            "41 - /content/gdrive/MyDrive/Crowd Computing/ShanghaiTech/part_A/train_data/images/IMG_41.jpg , 398.49578857421875\n",
            "42 - /content/gdrive/MyDrive/Crowd Computing/ShanghaiTech/part_A/train_data/images/IMG_260.jpg , 559.6257934570312\n",
            "43 - /content/gdrive/MyDrive/Crowd Computing/ShanghaiTech/part_A/train_data/images/IMG_246.jpg , 367.6785888671875\n",
            "44 - /content/gdrive/MyDrive/Crowd Computing/ShanghaiTech/part_A/train_data/images/IMG_266.jpg , 340.61016845703125\n",
            "45 - /content/gdrive/MyDrive/Crowd Computing/ShanghaiTech/part_A/train_data/images/IMG_296.jpg , 499.8762512207031\n",
            "46 - /content/gdrive/MyDrive/Crowd Computing/ShanghaiTech/part_A/train_data/images/IMG_298.jpg , 1038.6710205078125\n",
            "47 - /content/gdrive/MyDrive/Crowd Computing/ShanghaiTech/part_A/train_data/images/IMG_57.jpg , 300.78131103515625\n",
            "48 - /content/gdrive/MyDrive/Crowd Computing/ShanghaiTech/part_A/train_data/images/IMG_289.jpg , 355.9085388183594\n",
            "49 - /content/gdrive/MyDrive/Crowd Computing/ShanghaiTech/part_A/train_data/images/IMG_50.jpg , 2332.039794921875\n",
            "50 - /content/gdrive/MyDrive/Crowd Computing/ShanghaiTech/part_A/train_data/images/IMG_3.jpg , 259.69891357421875\n",
            "51 - /content/gdrive/MyDrive/Crowd Computing/ShanghaiTech/part_A/train_data/images/IMG_294.jpg , 1997.4154052734375\n",
            "52 - /content/gdrive/MyDrive/Crowd Computing/ShanghaiTech/part_A/train_data/images/IMG_241.jpg , 103.82535552978516\n",
            "53 - /content/gdrive/MyDrive/Crowd Computing/ShanghaiTech/part_A/train_data/images/IMG_242.jpg , 1523.779541015625\n",
            "54 - /content/gdrive/MyDrive/Crowd Computing/ShanghaiTech/part_A/train_data/images/IMG_6.jpg , 550.8523559570312\n",
            "55 - /content/gdrive/MyDrive/Crowd Computing/ShanghaiTech/part_A/train_data/images/IMG_290.jpg , 208.16671752929688\n",
            "56 - /content/gdrive/MyDrive/Crowd Computing/ShanghaiTech/part_A/train_data/images/IMG_262.jpg , 2189.34912109375\n",
            "57 - /content/gdrive/MyDrive/Crowd Computing/ShanghaiTech/part_A/train_data/images/IMG_297.jpg , 612.2332153320312\n",
            "58 - /content/gdrive/MyDrive/Crowd Computing/ShanghaiTech/part_A/train_data/images/IMG_272.jpg , 45.36213302612305\n",
            "59 - /content/gdrive/MyDrive/Crowd Computing/ShanghaiTech/part_A/train_data/images/IMG_40.jpg , 128.75241088867188\n",
            "60 - /content/gdrive/MyDrive/Crowd Computing/ShanghaiTech/part_A/train_data/images/IMG_273.jpg , 360.0638732910156\n",
            "61 - /content/gdrive/MyDrive/Crowd Computing/ShanghaiTech/part_A/train_data/images/IMG_54.jpg , 506.1877136230469\n",
            "62 - /content/gdrive/MyDrive/Crowd Computing/ShanghaiTech/part_A/train_data/images/IMG_43.jpg , 235.82212829589844\n",
            "63 - /content/gdrive/MyDrive/Crowd Computing/ShanghaiTech/part_A/train_data/images/IMG_278.jpg , 137.7177276611328\n",
            "64 - /content/gdrive/MyDrive/Crowd Computing/ShanghaiTech/part_A/train_data/images/IMG_26.jpg , 1075.944580078125\n",
            "65 - /content/gdrive/MyDrive/Crowd Computing/ShanghaiTech/part_A/train_data/images/IMG_243.jpg , 121.63035583496094\n",
            "66 - /content/gdrive/MyDrive/Crowd Computing/ShanghaiTech/part_A/train_data/images/IMG_244.jpg , 197.84011840820312\n",
            "67 - /content/gdrive/MyDrive/Crowd Computing/ShanghaiTech/part_A/train_data/images/IMG_279.jpg , 163.6353759765625\n",
            "68 - /content/gdrive/MyDrive/Crowd Computing/ShanghaiTech/part_A/train_data/images/IMG_254.jpg , 576.908935546875\n",
            "69 - /content/gdrive/MyDrive/Crowd Computing/ShanghaiTech/part_A/train_data/images/IMG_235.jpg , 186.55667114257812\n",
            "70 - /content/gdrive/MyDrive/Crowd Computing/ShanghaiTech/part_A/train_data/images/IMG_61.jpg , 83.65221405029297\n",
            "71 - /content/gdrive/MyDrive/Crowd Computing/ShanghaiTech/part_A/train_data/images/IMG_39.jpg , 409.1549377441406\n",
            "72 - /content/gdrive/MyDrive/Crowd Computing/ShanghaiTech/part_A/train_data/images/IMG_236.jpg , 736.968994140625\n",
            "73 - /content/gdrive/MyDrive/Crowd Computing/ShanghaiTech/part_A/train_data/images/IMG_37.jpg , 412.0809326171875\n",
            "74 - /content/gdrive/MyDrive/Crowd Computing/ShanghaiTech/part_A/train_data/images/IMG_237.jpg , 981.19189453125\n",
            "75 - /content/gdrive/MyDrive/Crowd Computing/ShanghaiTech/part_A/train_data/images/IMG_276.jpg , 378.8719482421875\n",
            "76 - /content/gdrive/MyDrive/Crowd Computing/ShanghaiTech/part_A/train_data/images/IMG_282.jpg , 449.8533630371094\n",
            "77 - /content/gdrive/MyDrive/Crowd Computing/ShanghaiTech/part_A/train_data/images/IMG_280.jpg , 243.78269958496094\n",
            "78 - /content/gdrive/MyDrive/Crowd Computing/ShanghaiTech/part_A/train_data/images/IMG_263.jpg , 652.6885375976562\n",
            "79 - /content/gdrive/MyDrive/Crowd Computing/ShanghaiTech/part_A/train_data/images/IMG_265.jpg , 70.13935089111328\n",
            "80 - /content/gdrive/MyDrive/Crowd Computing/ShanghaiTech/part_A/train_data/images/IMG_275.jpg , 139.41278076171875\n",
            "81 - /content/gdrive/MyDrive/Crowd Computing/ShanghaiTech/part_A/train_data/images/IMG_295.jpg , 685.2031860351562\n",
            "82 - /content/gdrive/MyDrive/Crowd Computing/ShanghaiTech/part_A/train_data/images/IMG_47.jpg , 367.7846984863281\n",
            "83 - /content/gdrive/MyDrive/Crowd Computing/ShanghaiTech/part_A/train_data/images/IMG_288.jpg , 314.84686279296875\n",
            "84 - /content/gdrive/MyDrive/Crowd Computing/ShanghaiTech/part_A/train_data/images/IMG_267.jpg , 1160.010986328125\n",
            "85 - /content/gdrive/MyDrive/Crowd Computing/ShanghaiTech/part_A/train_data/images/IMG_36.jpg , 134.21588134765625\n",
            "86 - /content/gdrive/MyDrive/Crowd Computing/ShanghaiTech/part_A/train_data/images/IMG_232.jpg , 34.91289138793945\n",
            "87 - /content/gdrive/MyDrive/Crowd Computing/ShanghaiTech/part_A/train_data/images/IMG_258.jpg , 817.2522583007812\n",
            "88 - /content/gdrive/MyDrive/Crowd Computing/ShanghaiTech/part_A/train_data/images/IMG_240.jpg , 240.9774169921875\n",
            "89 - /content/gdrive/MyDrive/Crowd Computing/ShanghaiTech/part_A/train_data/images/IMG_291.jpg , 425.99163818359375\n",
            "90 - /content/gdrive/MyDrive/Crowd Computing/ShanghaiTech/part_A/train_data/images/IMG_56.jpg , 628.907470703125\n",
            "91 - /content/gdrive/MyDrive/Crowd Computing/ShanghaiTech/part_A/train_data/images/IMG_250.jpg , 468.3560485839844\n",
            "92 - /content/gdrive/MyDrive/Crowd Computing/ShanghaiTech/part_A/train_data/images/IMG_33.jpg , 260.8995056152344\n",
            "93 - /content/gdrive/MyDrive/Crowd Computing/ShanghaiTech/part_A/train_data/images/IMG_38.jpg , 355.170166015625\n",
            "94 - /content/gdrive/MyDrive/Crowd Computing/ShanghaiTech/part_A/train_data/images/IMG_292.jpg , 811.5667114257812\n",
            "95 - /content/gdrive/MyDrive/Crowd Computing/ShanghaiTech/part_A/train_data/images/IMG_55.jpg , 204.2215576171875\n",
            "96 - /content/gdrive/MyDrive/Crowd Computing/ShanghaiTech/part_A/train_data/images/IMG_239.jpg , 82.41962432861328\n",
            "97 - /content/gdrive/MyDrive/Crowd Computing/ShanghaiTech/part_A/train_data/images/IMG_64.jpg , 210.3717498779297\n",
            "98 - /content/gdrive/MyDrive/Crowd Computing/ShanghaiTech/part_A/train_data/images/IMG_277.jpg , 203.20884704589844\n",
            "99 - /content/gdrive/MyDrive/Crowd Computing/ShanghaiTech/part_A/train_data/images/IMG_32.jpg , 228.33096313476562\n",
            "100 - /content/gdrive/MyDrive/Crowd Computing/ShanghaiTech/part_A/train_data/images/IMG_25.jpg , 218.1748046875\n",
            "101 - /content/gdrive/MyDrive/Crowd Computing/ShanghaiTech/part_A/train_data/images/IMG_59.jpg , 260.35382080078125\n",
            "102 - /content/gdrive/MyDrive/Crowd Computing/ShanghaiTech/part_A/train_data/images/IMG_255.jpg , 401.703857421875\n",
            "103 - /content/gdrive/MyDrive/Crowd Computing/ShanghaiTech/part_A/train_data/images/IMG_44.jpg , 277.19329833984375\n",
            "104 - /content/gdrive/MyDrive/Crowd Computing/ShanghaiTech/part_A/train_data/images/IMG_286.jpg , 189.09666442871094\n",
            "105 - /content/gdrive/MyDrive/Crowd Computing/ShanghaiTech/part_A/train_data/images/IMG_49.jpg , 490.2415466308594\n",
            "106 - /content/gdrive/MyDrive/Crowd Computing/ShanghaiTech/part_A/train_data/images/IMG_270.jpg , 258.0453796386719\n",
            "107 - /content/gdrive/MyDrive/Crowd Computing/ShanghaiTech/part_A/train_data/images/IMG_281.jpg , 142.1326141357422\n",
            "108 - /content/gdrive/MyDrive/Crowd Computing/ShanghaiTech/part_A/train_data/images/IMG_251.jpg , 1195.9864501953125\n",
            "109 - /content/gdrive/MyDrive/Crowd Computing/ShanghaiTech/part_A/train_data/images/IMG_249.jpg , 363.0689697265625\n",
            "110 - /content/gdrive/MyDrive/Crowd Computing/ShanghaiTech/part_A/train_data/images/IMG_28.jpg , 809.2731323242188\n",
            "111 - /content/gdrive/MyDrive/Crowd Computing/ShanghaiTech/part_A/train_data/images/IMG_58.jpg , 1586.1123046875\n",
            "112 - /content/gdrive/MyDrive/Crowd Computing/ShanghaiTech/part_A/train_data/images/IMG_63.jpg , 238.49911499023438\n",
            "113 - /content/gdrive/MyDrive/Crowd Computing/ShanghaiTech/part_A/train_data/images/IMG_78.jpg , 114.51665496826172\n",
            "114 - /content/gdrive/MyDrive/Crowd Computing/ShanghaiTech/part_A/train_data/images/IMG_79.jpg , 2015.4698486328125\n",
            "115 - /content/gdrive/MyDrive/Crowd Computing/ShanghaiTech/part_A/train_data/images/IMG_85.jpg , 266.5108642578125\n",
            "116 - /content/gdrive/MyDrive/Crowd Computing/ShanghaiTech/part_A/train_data/images/IMG_9.jpg , 186.22921752929688\n",
            "117 - /content/gdrive/MyDrive/Crowd Computing/ShanghaiTech/part_A/train_data/images/IMG_74.jpg , 415.1778869628906\n",
            "118 - /content/gdrive/MyDrive/Crowd Computing/ShanghaiTech/part_A/train_data/images/IMG_73.jpg , 316.7547607421875\n",
            "119 - /content/gdrive/MyDrive/Crowd Computing/ShanghaiTech/part_A/train_data/images/IMG_89.jpg , 241.1759796142578\n",
            "120 - /content/gdrive/MyDrive/Crowd Computing/ShanghaiTech/part_A/train_data/images/IMG_8.jpg , 143.14920043945312\n",
            "121 - /content/gdrive/MyDrive/Crowd Computing/ShanghaiTech/part_A/train_data/images/IMG_98.jpg , 311.2384338378906\n",
            "122 - /content/gdrive/MyDrive/Crowd Computing/ShanghaiTech/part_A/train_data/images/IMG_77.jpg , 138.04530334472656\n",
            "123 - /content/gdrive/MyDrive/Crowd Computing/ShanghaiTech/part_A/train_data/images/IMG_96.jpg , 493.02325439453125\n",
            "124 - /content/gdrive/MyDrive/Crowd Computing/ShanghaiTech/part_A/train_data/images/IMG_75.jpg , 289.31463623046875\n",
            "125 - /content/gdrive/MyDrive/Crowd Computing/ShanghaiTech/part_A/train_data/images/IMG_71.jpg , 553.3489379882812\n",
            "126 - /content/gdrive/MyDrive/Crowd Computing/ShanghaiTech/part_A/train_data/images/IMG_69.jpg , 361.3056335449219\n",
            "127 - /content/gdrive/MyDrive/Crowd Computing/ShanghaiTech/part_A/train_data/images/IMG_94.jpg , 2224.39697265625\n",
            "128 - /content/gdrive/MyDrive/Crowd Computing/ShanghaiTech/part_A/train_data/images/IMG_76.jpg , 685.6771240234375\n",
            "129 - /content/gdrive/MyDrive/Crowd Computing/ShanghaiTech/part_A/train_data/images/IMG_70.jpg , 415.8016052246094\n",
            "130 - /content/gdrive/MyDrive/Crowd Computing/ShanghaiTech/part_A/train_data/images/IMG_99.jpg , 427.2647399902344\n",
            "131 - /content/gdrive/MyDrive/Crowd Computing/ShanghaiTech/part_A/train_data/images/IMG_87.jpg , 624.383056640625\n",
            "132 - /content/gdrive/MyDrive/Crowd Computing/ShanghaiTech/part_A/train_data/images/IMG_7.jpg , 1650.015869140625\n",
            "133 - /content/gdrive/MyDrive/Crowd Computing/ShanghaiTech/part_A/train_data/images/IMG_95.jpg , 554.3167114257812\n",
            "134 - /content/gdrive/MyDrive/Crowd Computing/ShanghaiTech/part_A/train_data/images/IMG_83.jpg , 581.6761474609375\n",
            "135 - /content/gdrive/MyDrive/Crowd Computing/ShanghaiTech/part_A/train_data/images/IMG_92.jpg , 2634.6220703125\n",
            "136 - /content/gdrive/MyDrive/Crowd Computing/ShanghaiTech/part_A/train_data/images/IMG_88.jpg , 295.8661804199219\n",
            "137 - /content/gdrive/MyDrive/Crowd Computing/ShanghaiTech/part_A/train_data/images/IMG_84.jpg , 2137.439208984375\n",
            "138 - /content/gdrive/MyDrive/Crowd Computing/ShanghaiTech/part_A/train_data/images/IMG_80.jpg , 198.85153198242188\n",
            "139 - /content/gdrive/MyDrive/Crowd Computing/ShanghaiTech/part_A/train_data/images/IMG_82.jpg , 236.47621154785156\n",
            "140 - /content/gdrive/MyDrive/Crowd Computing/ShanghaiTech/part_A/train_data/images/IMG_68.jpg , 196.69346618652344\n",
            "141 - /content/gdrive/MyDrive/Crowd Computing/ShanghaiTech/part_A/train_data/images/IMG_93.jpg , 271.8428649902344\n",
            "142 - /content/gdrive/MyDrive/Crowd Computing/ShanghaiTech/part_A/train_data/images/IMG_86.jpg , 252.0909881591797\n",
            "143 - /content/gdrive/MyDrive/Crowd Computing/ShanghaiTech/part_A/train_data/images/IMG_67.jpg , 160.8466033935547\n",
            "144 - /content/gdrive/MyDrive/Crowd Computing/ShanghaiTech/part_A/train_data/images/IMG_91.jpg , 315.4028015136719\n",
            "145 - /content/gdrive/MyDrive/Crowd Computing/ShanghaiTech/part_A/train_data/images/IMG_90.jpg , 99.9885482788086\n",
            "146 - /content/gdrive/MyDrive/Crowd Computing/ShanghaiTech/part_A/train_data/images/IMG_81.jpg , 292.3473205566406\n",
            "147 - /content/gdrive/MyDrive/Crowd Computing/ShanghaiTech/part_A/train_data/images/IMG_66.jpg , 845.232177734375\n",
            "148 - /content/gdrive/MyDrive/Crowd Computing/ShanghaiTech/part_A/train_data/images/IMG_97.jpg , 217.23745727539062\n",
            "149 - /content/gdrive/MyDrive/Crowd Computing/ShanghaiTech/part_A/train_data/images/IMG_65.jpg , 425.1473083496094\n",
            "150 - /content/gdrive/MyDrive/Crowd Computing/ShanghaiTech/part_A/train_data/images/IMG_72.jpg , 267.9361267089844\n"
          ],
          "name": "stdout"
        }
      ]
    },
    {
      "cell_type": "code",
      "metadata": {
        "id": "xJ1EHTq-UN3s"
      },
      "source": [
        "# ground-truth(.mat) file structure\r\n",
        "\r\n",
        "mat\r\n",
        "{   \r\n",
        "    '__header__': b'MATLAB 5.0 MAT-file, Platform: PCWIN64, Created on: Fri Nov 18 20:05:04 2016', \r\n",
        "    '__version__': '1.0', \r\n",
        "    '__globals__': [],  \r\n",
        "     \r\n",
        "    \"\"\"\r\n",
        "        ### general structure  of image_info ###\r\n",
        "\r\n",
        "        array1(\r\n",
        "                [\r\n",
        "                    [\r\n",
        "                        array2(\r\n",
        "                                [\r\n",
        "                                    [\r\n",
        "                                        (\r\n",
        "                                            # array 2.1 is sparse matrix which is required to create density map of ground-truth\r\n",
        "                                            array2.1( [ [ 524.17564209,  611.31179232],....,[  20.58878763,  594.48550124] ] ),\r\n",
        "                                            array2.2( [ [277] ] )\r\n",
        "                                        )\r\n",
        "                                    ]\r\n",
        "                                ]\r\n",
        "                            )\r\n",
        "                    ]\r\n",
        "                ]\r\n",
        "            )\r\n",
        "    \"\"\"\r\n",
        "}"
      ],
      "execution_count": null,
      "outputs": []
    },
    {
      "cell_type": "code",
      "metadata": {
        "colab": {
          "base_uri": "https://localhost:8080/",
          "height": 136
        },
        "id": "MH8-iBQKyq8d",
        "outputId": "df770255-d0c5-4c18-d817-40b5fc2d0496"
      },
      "source": [
        "image_name = \"IMG_187\"\r\n",
        "dataset = \"train_data\"  # 'test_data'\r\n",
        "part = 'part_A' # 'part_A'\r\n",
        "\r\n",
        "with open(prefix+'/{}/{}/data.csv'.format(part,dataset), 'r', encoding = 'utf-8') as f1:\r\n",
        "    data = f1.readlines()\r\n",
        "    for row in data:\r\n",
        "        if image_name in row:\r\n",
        "            ground_truth = round(float(row.split(',')[1]),3)\r\n",
        "            break\r\n",
        "\r\n",
        "normal_image = img.imread(prefix+'/{}/{}/images/{}.jpg'.format(part,dataset,image_name)) \r\n",
        "plt.subplot(1,2,1)\r\n",
        "plt.imshow(normal_image)\r\n",
        "plt.title(\"Normal Image\")\r\n",
        "\r\n",
        "f = h5py.File(prefix+'/{}/{}/density_maps/{}.h5'.format(part,dataset,image_name),'r')\r\n",
        "plt.subplot(1,2,2)\r\n",
        "plt.imshow(np.asarray(f['density']))     # 'bwr'\r\n",
        "# print(f['density'].shape)\r\n",
        "plt.title(\"Density map\\nground-truth : {}\".format(int(np.sum(f['density']))))\r\n",
        "\r\n",
        "plt.show()"
      ],
      "execution_count": null,
      "outputs": [
        {
          "output_type": "display_data",
          "data": {
            "image/png": "[encoded data removed]",
            "text/plain": [
              "<Figure size 432x288 with 2 Axes>"
            ]
          },
          "metadata": {
            "tags": [],
            "needs_background": "light"
          }
        }
      ]
    },
    {
      "cell_type": "code",
      "metadata": {
        "id": "HXbyos1rvsgI"
      },
      "source": [
        ""
      ],
      "execution_count": null,
      "outputs": []
    }
  ]
}